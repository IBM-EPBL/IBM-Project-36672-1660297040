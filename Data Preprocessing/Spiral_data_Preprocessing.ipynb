{
  "nbformat": 4,
  "nbformat_minor": 0,
  "metadata": {
    "colab": {
      "provenance": []
    },
    "kernelspec": {
      "name": "python3",
      "display_name": "Python 3"
    },
    "language_info": {
      "name": "python"
    }
  },
  "cells": [
    {
      "cell_type": "markdown",
      "source": [
        "IMPORTING THE NECESSARY LIBRARIES\n",
        "\n"
      ],
      "metadata": {
        "id": "BkJnkUCsEdZW"
      }
    },
    {
      "cell_type": "code",
      "execution_count": null,
      "metadata": {
        "id": "xnIRNWn2F0ec"
      },
      "outputs": [],
      "source": [
        "%matplotlib inline\n",
        "\n",
        "import numpy as np\n",
        "import pandas as pd\n",
        "import matplotlib.pyplot as plt\n",
        "import seaborn as sns\n",
        "import zipfile as zf\n",
        "import os\n",
        "import random\n",
        "import cv2\n",
        "import imutils\n",
        "\n",
        "from sklearn.metrics import classification_report,confusion_matrix\n",
        "from sklearn import metrics\n",
        "from sklearn.preprocessing import LabelEncoder,LabelBinarizer\n",
        "from sklearn.model_selection import train_test_split\n",
        "from sklearn.ensemble import RandomForestClassifier,GradientBoostingClassifier,ExtraTreesClassifier\n",
        "\n",
        "from skimage import feature\n",
        "\n",
        "from keras.utils import to_categorical\n",
        "from imutils import build_montages,paths\n",
        "\n",
        "\n",
        "sns.set()"
      ]
    },
    {
      "cell_type": "code",
      "source": [
        "os.chdir('/content/drive/My Drive/IBM/Spiral/spiral/')"
      ],
      "metadata": {
        "id": "YnBnaXdn7UJT"
      },
      "execution_count": null,
      "outputs": []
    },
    {
      "cell_type": "code",
      "source": [
        "os.getcwd()"
      ],
      "metadata": {
        "colab": {
          "base_uri": "https://localhost:8080/",
          "height": 36
        },
        "id": "uPG3QZVH71Wr",
        "outputId": "b2630081-bb47-4405-8a06-d2a87d3387b0"
      },
      "execution_count": null,
      "outputs": [
        {
          "output_type": "execute_result",
          "data": {
            "text/plain": [
              "'/content/drive/My Drive/IBM/Spiral/spiral'"
            ],
            "application/vnd.google.colaboratory.intrinsic+json": {
              "type": "string"
            }
          },
          "metadata": {},
          "execution_count": 21
        }
      ]
    },
    {
      "cell_type": "markdown",
      "source": [
        "LOADING TRAIN AND TEST DATA"
      ],
      "metadata": {
        "id": "rcZjXJqQ8R6H"
      }
    },
    {
      "cell_type": "code",
      "source": [
        "spiral_train_healthy = os.listdir('/content/drive/My Drive/IBM/Spiral/spiral/training/healthy/')\n",
        "spiral_train_park = os.listdir('/content/drive/My Drive/IBM/Spiral/spiral/training/parkinson/')\n",
        "\n",
        "fp_spiral_train_healthy = '/content/drive/My Drive/IBM/Spiral/spiral/training/healthy/'\n",
        "fp_spiral_train_park = '/content/drive/My Drive/IBM/Spiral/spiral/training/parkinson/'\n",
        "\n",
        "spiral_test_healthy = os.listdir('/content/drive/My Drive/IBM/Spiral/spiral/testing/healthy/')\n",
        "spiral_test_park = os.listdir('/content/drive/My Drive/IBM/Spiral/spiral/testing/parkinson/')\n",
        "\n",
        "fp_spiral_test_healthy = '/content/drive/My Drive/IBM/Spiral/spiral/testing/healthy/'\n",
        "fp_spiral_test_park = '/content/drive/My Drive/IBM/Spiral/spiral/testing/parkinson/'"
      ],
      "metadata": {
        "id": "VWT1Z2Jj8ASS"
      },
      "execution_count": null,
      "outputs": []
    },
    {
      "cell_type": "markdown",
      "source": [
        "QUANTIFYING IMAGES"
      ],
      "metadata": {
        "id": "LclmYidFC5Bj"
      }
    },
    {
      "cell_type": "code",
      "source": [
        "def quantify_image(image):\n",
        "  features = feature.hog(image,orientations=9,\n",
        "                pixels_per_cell=(10,10),cells_per_block=(2,2),transform_sqrt=True,block_norm=\"L1\")\n",
        "\n",
        "  return features"
      ],
      "metadata": {
        "id": "CZeHC31IESuw"
      },
      "execution_count": null,
      "outputs": []
    },
    {
      "cell_type": "markdown",
      "source": [
        "PREPROCESSING"
      ],
      "metadata": {
        "id": "9EfzJjl5EWpr"
      }
    },
    {
      "cell_type": "code",
      "source": [
        "trainX = []\n",
        "testX = []\n",
        "outputs = []\n",
        "trainY = []\n",
        "testY = []\n",
        "\n",
        "for i in spiral_train_healthy:\n",
        "  image = cv2.imread(fp_spiral_train_healthy+i)\n",
        "  image = cv2.cvtColor(image , cv2.COLOR_BGR2GRAY)\n",
        "  image = cv2.resize(image , (200,200))\n",
        "  image =cv2.threshold(image, 0, 255,cv2.THRESH_BINARY_INV | cv2.THRESH_OTSU)[1]\n",
        "  features = quantify_image(image)\n",
        "  trainX.append(features)\n",
        "  trainY.append('healthy')\n",
        "\n",
        "for i in spiral_train_park:\n",
        "  image = cv2.imread(fp_spiral_train_park+i)\n",
        "  image = cv2.cvtColor(image , cv2.COLOR_BGR2GRAY)\n",
        "  image = cv2.resize(image , (200,200))\n",
        "  image = cv2.threshold(image ,0,255,cv2.THRESH_BINARY_INV | cv2.THRESH_OTSU)[1]\n",
        "  features = quantify_image(image)\n",
        "  trainX.append(features)\n",
        "  trainY.append('parkinson')\n",
        "\n",
        "for i in spiral_test_healthy:\n",
        "  image = cv2.imread(fp_spiral_test_healthy+i)\n",
        "  outputs.append(image)\n",
        "  image = cv2.cvtColor(image , cv2.COLOR_BGR2GRAY)\n",
        "  image = cv2.resize(image , (200,200))\n",
        "  image = cv2.threshold(image ,0,255,cv2.THRESH_BINARY_INV | cv2.THRESH_OTSU)[1]\n",
        "  features = quantify_image(image)\n",
        "  testX.append(features)\n",
        "  testY.append('healthy')\n",
        "\n",
        "for i in spiral_test_park:\n",
        "  image = cv2.imread(fp_spiral_test_park+i)\n",
        "  outputs.append(image)\n",
        "  image = cv2.cvtColor(image , cv2.COLOR_BGR2GRAY)\n",
        "  image = cv2.resize(image , (200,200))\n",
        "  image = cv2.threshold(image ,0,255,cv2.THRESH_BINARY_INV | cv2.THRESH_OTSU)[1]\n",
        "  features = quantify_image(image)\n",
        "  testX.append(features)\n",
        "  testY.append('parkinson')"
      ],
      "metadata": {
        "id": "TZ3Bvg0qPshd"
      },
      "execution_count": null,
      "outputs": []
    },
    {
      "cell_type": "code",
      "source": [
        "trainX = np.array(trainX)\n",
        "testX = np.array(testX)\n",
        "trainY = np.array(trainY)\n",
        "testY = np.array(testY)"
      ],
      "metadata": {
        "id": "jquW0SIMGbqm"
      },
      "execution_count": null,
      "outputs": []
    },
    {
      "cell_type": "code",
      "source": [
        "trainX"
      ],
      "metadata": {
        "colab": {
          "base_uri": "https://localhost:8080/"
        },
        "id": "r5PKOJAuQAQx",
        "outputId": "f2b6f6ea-4ea7-4bc6-a4e1-bb1824997106"
      },
      "execution_count": null,
      "outputs": [
        {
          "output_type": "execute_result",
          "data": {
            "text/plain": [
              "array([[0., 0., 0., ..., 0., 0., 0.],\n",
              "       [0., 0., 0., ..., 0., 0., 0.],\n",
              "       [0., 0., 0., ..., 0., 0., 0.],\n",
              "       ...,\n",
              "       [0., 0., 0., ..., 0., 0., 0.],\n",
              "       [0., 0., 0., ..., 0., 0., 0.],\n",
              "       [0., 0., 0., ..., 0., 0., 0.]])"
            ]
          },
          "metadata": {},
          "execution_count": 57
        }
      ]
    },
    {
      "cell_type": "code",
      "source": [
        "testX"
      ],
      "metadata": {
        "colab": {
          "base_uri": "https://localhost:8080/"
        },
        "id": "zApbM49wQD42",
        "outputId": "313d651a-93a5-4856-adcb-359da80c0578"
      },
      "execution_count": null,
      "outputs": [
        {
          "output_type": "execute_result",
          "data": {
            "text/plain": [
              "array([[0., 0., 0., ..., 0., 0., 0.],\n",
              "       [0., 0., 0., ..., 0., 0., 0.],\n",
              "       [0., 0., 0., ..., 0., 0., 0.],\n",
              "       ...,\n",
              "       [0., 0., 0., ..., 0., 0., 0.],\n",
              "       [0., 0., 0., ..., 0., 0., 0.],\n",
              "       [0., 0., 0., ..., 0., 0., 0.]])"
            ]
          },
          "metadata": {},
          "execution_count": 58
        }
      ]
    },
    {
      "cell_type": "code",
      "source": [
        "trainY"
      ],
      "metadata": {
        "colab": {
          "base_uri": "https://localhost:8080/"
        },
        "id": "ijLdjLjxQGZg",
        "outputId": "efd3fa78-08ee-4fe8-d627-5e49b35297f3"
      },
      "execution_count": null,
      "outputs": [
        {
          "output_type": "execute_result",
          "data": {
            "text/plain": [
              "array(['healthy', 'healthy', 'healthy', 'healthy', 'healthy', 'healthy',\n",
              "       'healthy', 'healthy', 'healthy', 'healthy', 'healthy', 'healthy',\n",
              "       'healthy', 'healthy', 'healthy', 'healthy', 'healthy', 'healthy',\n",
              "       'healthy', 'healthy', 'healthy', 'healthy', 'healthy', 'healthy',\n",
              "       'healthy', 'healthy', 'healthy', 'healthy', 'healthy', 'healthy',\n",
              "       'healthy', 'healthy', 'healthy', 'healthy', 'healthy', 'healthy',\n",
              "       'parkinson', 'parkinson', 'parkinson', 'parkinson', 'parkinson',\n",
              "       'parkinson', 'parkinson', 'parkinson', 'parkinson', 'parkinson',\n",
              "       'parkinson', 'parkinson', 'parkinson', 'parkinson', 'parkinson',\n",
              "       'parkinson', 'parkinson', 'parkinson', 'parkinson', 'parkinson',\n",
              "       'parkinson', 'parkinson', 'parkinson', 'parkinson', 'parkinson',\n",
              "       'parkinson', 'parkinson', 'parkinson', 'parkinson', 'parkinson',\n",
              "       'parkinson', 'parkinson', 'parkinson', 'parkinson', 'parkinson',\n",
              "       'parkinson'], dtype='<U9')"
            ]
          },
          "metadata": {},
          "execution_count": 59
        }
      ]
    },
    {
      "cell_type": "code",
      "source": [
        "testY"
      ],
      "metadata": {
        "colab": {
          "base_uri": "https://localhost:8080/"
        },
        "id": "jAK-0N8VQH7K",
        "outputId": "83c079df-c7ea-4679-a4f4-00c08e44f88e"
      },
      "execution_count": null,
      "outputs": [
        {
          "output_type": "execute_result",
          "data": {
            "text/plain": [
              "array(['healthy', 'healthy', 'healthy', 'healthy', 'healthy', 'healthy',\n",
              "       'healthy', 'healthy', 'healthy', 'healthy', 'healthy', 'healthy',\n",
              "       'healthy', 'healthy', 'healthy', 'parkinson', 'parkinson',\n",
              "       'parkinson', 'parkinson', 'parkinson', 'parkinson', 'parkinson',\n",
              "       'parkinson', 'parkinson', 'parkinson', 'parkinson', 'parkinson',\n",
              "       'parkinson', 'parkinson', 'parkinson'], dtype='<U9')"
            ]
          },
          "metadata": {},
          "execution_count": 60
        }
      ]
    },
    {
      "cell_type": "markdown",
      "source": [
        "LABEL ENCODING"
      ],
      "metadata": {
        "id": "TRrJupZTG-ws"
      }
    },
    {
      "cell_type": "code",
      "source": [
        "le = LabelEncoder()\n",
        "trainY = le.fit_transform(trainY)\n",
        "testY = le.transform(testY)"
      ],
      "metadata": {
        "id": "QAUzd8EKHAnx"
      },
      "execution_count": null,
      "outputs": []
    },
    {
      "cell_type": "code",
      "source": [
        "trainY"
      ],
      "metadata": {
        "colab": {
          "base_uri": "https://localhost:8080/"
        },
        "id": "DoFFDvHUQY9h",
        "outputId": "04c854be-3ca8-483d-ba9a-86195bf257d4"
      },
      "execution_count": null,
      "outputs": [
        {
          "output_type": "execute_result",
          "data": {
            "text/plain": [
              "array([0, 0, 0, 0, 0, 0, 0, 0, 0, 0, 0, 0, 0, 0, 0, 0, 0, 0, 0, 0, 0, 0,\n",
              "       0, 0, 0, 0, 0, 0, 0, 0, 0, 0, 0, 0, 0, 0, 1, 1, 1, 1, 1, 1, 1, 1,\n",
              "       1, 1, 1, 1, 1, 1, 1, 1, 1, 1, 1, 1, 1, 1, 1, 1, 1, 1, 1, 1, 1, 1,\n",
              "       1, 1, 1, 1, 1, 1])"
            ]
          },
          "metadata": {},
          "execution_count": 62
        }
      ]
    }
  ]
}