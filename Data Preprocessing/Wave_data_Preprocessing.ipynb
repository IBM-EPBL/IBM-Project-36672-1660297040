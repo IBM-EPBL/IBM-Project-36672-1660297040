{
  "nbformat": 4,
  "nbformat_minor": 0,
  "metadata": {
    "colab": {
      "provenance": []
    },
    "kernelspec": {
      "name": "python3",
      "display_name": "Python 3"
    },
    "language_info": {
      "name": "python"
    }
  },
  "cells": [
    {
      "cell_type": "markdown",
      "source": [
        "IMPORTING THE NECESSARY LIBRARIES\n",
        "\n"
      ],
      "metadata": {
        "id": "Y9VjNPLwRLoS"
      }
    },
    {
      "cell_type": "code",
      "execution_count": null,
      "metadata": {
        "id": "J-e19yb-RBbl"
      },
      "outputs": [],
      "source": [
        "%matplotlib inline\n",
        "\n",
        "import numpy as np\n",
        "import pandas as pd\n",
        "import matplotlib.pyplot as plt\n",
        "import seaborn as sns\n",
        "import zipfile as zf\n",
        "import os\n",
        "import random\n",
        "import cv2\n",
        "import imutils\n",
        "\n",
        "from sklearn.metrics import classification_report,confusion_matrix\n",
        "from sklearn import metrics\n",
        "from sklearn.preprocessing import LabelEncoder,LabelBinarizer\n",
        "from sklearn.model_selection import train_test_split\n",
        "from sklearn.ensemble import RandomForestClassifier,GradientBoostingClassifier,ExtraTreesClassifier\n",
        "\n",
        "from skimage import feature\n",
        "\n",
        "from keras.utils import to_categorical\n",
        "from imutils import build_montages,paths\n",
        "\n",
        "\n",
        "sns.set()"
      ]
    },
    {
      "cell_type": "code",
      "source": [
        "os.chdir('/content/drive/My Drive/IBM/Wave/wave/')"
      ],
      "metadata": {
        "id": "TyAfT2nURQln"
      },
      "execution_count": null,
      "outputs": []
    },
    {
      "cell_type": "code",
      "source": [
        "os.getcwd()"
      ],
      "metadata": {
        "colab": {
          "base_uri": "https://localhost:8080/",
          "height": 36
        },
        "id": "-7ltsFTzRlTL",
        "outputId": "6d81ab16-617d-4085-e491-48b8ac6aa4db"
      },
      "execution_count": null,
      "outputs": [
        {
          "output_type": "execute_result",
          "data": {
            "text/plain": [
              "'/content/drive/My Drive/IBM/Wave/wave'"
            ],
            "application/vnd.google.colaboratory.intrinsic+json": {
              "type": "string"
            }
          },
          "metadata": {},
          "execution_count": 5
        }
      ]
    },
    {
      "cell_type": "markdown",
      "source": [
        "LOADING TRAIN AND TEST DATA"
      ],
      "metadata": {
        "id": "Y6LUbrx-RpzD"
      }
    },
    {
      "cell_type": "code",
      "source": [
        "wave_train_healthy = os.listdir('/content/drive/My Drive/IBM/Wave/wave/training/healthy/')\n",
        "wave_train_park = os.listdir('/content/drive/My Drive/IBM/Wave/wave/training/parkinson/')\n",
        "\n",
        "fp_wave_train_healthy = '/content/drive/My Drive/IBM/Wave/wave/training/healthy/'\n",
        "fp_wave_train_park = '/content/drive/My Drive/IBM/Wave/wave/training/parkinson/'\n",
        "\n",
        "wave_test_healthy = os.listdir('/content/drive/My Drive/IBM/Wave/wave/testing/healthy/')\n",
        "wave_test_park = os.listdir('/content/drive/My Drive/IBM/Wave/wave/testing/parkinson/')\n",
        "\n",
        "fp_wave_test_healthy = '/content/drive/My Drive/IBM/Wave/wave/testing/healthy/'\n",
        "fp_wave_test_park = '/content/drive/My Drive/IBM/Wave/wave/testing/parkinson/'"
      ],
      "metadata": {
        "id": "XbplWg--RqXA"
      },
      "execution_count": null,
      "outputs": []
    },
    {
      "cell_type": "markdown",
      "source": [
        "QUANTIFYING IMAGES"
      ],
      "metadata": {
        "id": "6OB89gJrSFYQ"
      }
    },
    {
      "cell_type": "code",
      "source": [
        "def quantify_image(image):\n",
        "  features = feature.hog(image,orientations=9,\n",
        "                pixels_per_cell=(10,10),cells_per_block=(2,2),transform_sqrt=True,block_norm=\"L1\")\n",
        "\n",
        "  return features"
      ],
      "metadata": {
        "id": "5XudwCKvSF1t"
      },
      "execution_count": null,
      "outputs": []
    },
    {
      "cell_type": "markdown",
      "source": [
        "PREPROCESSING"
      ],
      "metadata": {
        "id": "Rdtzmw8nSLZz"
      }
    },
    {
      "cell_type": "code",
      "source": [
        "trainX = []\n",
        "testX = []\n",
        "outputs = []\n",
        "trainY = []\n",
        "testY = []\n",
        "\n",
        "for i in wave_train_healthy:\n",
        "  image = cv2.imread(fp_wave_train_healthy+i)\n",
        "  image = cv2.cvtColor(image , cv2.COLOR_BGR2GRAY)\n",
        "  image = cv2.resize(image , (200,200))\n",
        "  image =cv2.threshold(image, 0, 255,cv2.THRESH_BINARY_INV | cv2.THRESH_OTSU)[1]\n",
        "  features = quantify_image(image)\n",
        "  trainX.append(features)\n",
        "  trainY.append('healthy')\n",
        "\n",
        "for i in wave_train_park:\n",
        "  image = cv2.imread(fp_wave_train_park+i)\n",
        "  image = cv2.cvtColor(image , cv2.COLOR_BGR2GRAY)\n",
        "  image = cv2.resize(image , (200,200))\n",
        "  image = cv2.threshold(image ,0,255,cv2.THRESH_BINARY_INV | cv2.THRESH_OTSU)[1]\n",
        "  features = quantify_image(image)\n",
        "  trainX.append(features)\n",
        "  trainY.append('parkinson')\n",
        "\n",
        "for i in wave_test_healthy:\n",
        "  image = cv2.imread(fp_wave_test_healthy+i)\n",
        "  outputs.append(image)\n",
        "  image = cv2.cvtColor(image , cv2.COLOR_BGR2GRAY)\n",
        "  image = cv2.resize(image , (200,200))\n",
        "  image = cv2.threshold(image ,0,255,cv2.THRESH_BINARY_INV | cv2.THRESH_OTSU)[1]\n",
        "  features = quantify_image(image)\n",
        "  testX.append(features)\n",
        "  testY.append('healthy')\n",
        "\n",
        "for i in wave_test_park:\n",
        "  image = cv2.imread(fp_wave_test_park+i)\n",
        "  outputs.append(image)\n",
        "  image = cv2.cvtColor(image , cv2.COLOR_BGR2GRAY)\n",
        "  image = cv2.resize(image , (200,200))\n",
        "  image = cv2.threshold(image ,0,255,cv2.THRESH_BINARY_INV | cv2.THRESH_OTSU)[1]\n",
        "  features = quantify_image(image)\n",
        "  testX.append(features)\n",
        "  testY.append('parkinson')"
      ],
      "metadata": {
        "id": "eGhq9JNkSMA0"
      },
      "execution_count": null,
      "outputs": []
    },
    {
      "cell_type": "code",
      "source": [
        "trainX = np.array(trainX)\n",
        "testX = np.array(testX)\n",
        "trainY = np.array(trainY)\n",
        "testY = np.array(testY)"
      ],
      "metadata": {
        "id": "FEE6pV-PSXCk"
      },
      "execution_count": null,
      "outputs": []
    },
    {
      "cell_type": "code",
      "source": [
        "trainX"
      ],
      "metadata": {
        "colab": {
          "base_uri": "https://localhost:8080/"
        },
        "id": "wDmy3aQ_SaZz",
        "outputId": "6ddda416-198f-4ecc-e8e3-53d4aa855671"
      },
      "execution_count": null,
      "outputs": [
        {
          "output_type": "execute_result",
          "data": {
            "text/plain": [
              "array([[0.06109876, 0.        , 0.20984484, ..., 0.        , 0.        ,\n",
              "        0.        ],\n",
              "       [0.        , 0.        , 0.        , ..., 0.        , 0.        ,\n",
              "        0.        ],\n",
              "       [0.        , 0.        , 0.        , ..., 0.        , 0.        ,\n",
              "        0.        ],\n",
              "       ...,\n",
              "       [0.        , 0.        , 0.        , ..., 0.        , 0.        ,\n",
              "        0.        ],\n",
              "       [0.        , 0.        , 0.        , ..., 0.13692418, 0.        ,\n",
              "        0.        ],\n",
              "       [0.        , 0.        , 0.        , ..., 0.        , 0.        ,\n",
              "        0.        ]])"
            ]
          },
          "metadata": {},
          "execution_count": 10
        }
      ]
    },
    {
      "cell_type": "code",
      "source": [
        "testX"
      ],
      "metadata": {
        "colab": {
          "base_uri": "https://localhost:8080/"
        },
        "id": "0jHg64K9Sa1E",
        "outputId": "903bfdf0-cc32-475f-e54e-bd9793e73ffb"
      },
      "execution_count": null,
      "outputs": [
        {
          "output_type": "execute_result",
          "data": {
            "text/plain": [
              "array([[0., 0., 0., ..., 0., 0., 0.],\n",
              "       [0., 0., 0., ..., 0., 0., 0.],\n",
              "       [0., 0., 0., ..., 0., 0., 0.],\n",
              "       ...,\n",
              "       [0., 0., 0., ..., 0., 0., 0.],\n",
              "       [0., 0., 0., ..., 0., 0., 0.],\n",
              "       [0., 0., 0., ..., 0., 0., 0.]])"
            ]
          },
          "metadata": {},
          "execution_count": 11
        }
      ]
    },
    {
      "cell_type": "code",
      "source": [
        "trainY"
      ],
      "metadata": {
        "colab": {
          "base_uri": "https://localhost:8080/"
        },
        "id": "ryK9W-veSdOn",
        "outputId": "abe3ce29-aaf4-4498-f7e4-5b669db28ee5"
      },
      "execution_count": null,
      "outputs": [
        {
          "output_type": "execute_result",
          "data": {
            "text/plain": [
              "array(['healthy', 'healthy', 'healthy', 'healthy', 'healthy', 'healthy',\n",
              "       'healthy', 'healthy', 'healthy', 'healthy', 'healthy', 'healthy',\n",
              "       'healthy', 'healthy', 'healthy', 'healthy', 'healthy', 'healthy',\n",
              "       'healthy', 'healthy', 'healthy', 'healthy', 'healthy', 'healthy',\n",
              "       'healthy', 'healthy', 'healthy', 'healthy', 'healthy', 'healthy',\n",
              "       'healthy', 'healthy', 'healthy', 'healthy', 'healthy', 'healthy',\n",
              "       'parkinson', 'parkinson', 'parkinson', 'parkinson', 'parkinson',\n",
              "       'parkinson', 'parkinson', 'parkinson', 'parkinson', 'parkinson',\n",
              "       'parkinson', 'parkinson', 'parkinson', 'parkinson', 'parkinson',\n",
              "       'parkinson', 'parkinson', 'parkinson', 'parkinson', 'parkinson',\n",
              "       'parkinson', 'parkinson', 'parkinson', 'parkinson', 'parkinson',\n",
              "       'parkinson', 'parkinson', 'parkinson', 'parkinson', 'parkinson',\n",
              "       'parkinson', 'parkinson', 'parkinson', 'parkinson', 'parkinson',\n",
              "       'parkinson'], dtype='<U9')"
            ]
          },
          "metadata": {},
          "execution_count": 12
        }
      ]
    },
    {
      "cell_type": "code",
      "source": [
        "testY"
      ],
      "metadata": {
        "colab": {
          "base_uri": "https://localhost:8080/"
        },
        "id": "LOLtT7CXSe7N",
        "outputId": "a6fd3970-6488-455b-de97-39692f5163a1"
      },
      "execution_count": null,
      "outputs": [
        {
          "output_type": "execute_result",
          "data": {
            "text/plain": [
              "array(['healthy', 'healthy', 'healthy', 'healthy', 'healthy', 'healthy',\n",
              "       'healthy', 'healthy', 'healthy', 'healthy', 'healthy', 'healthy',\n",
              "       'healthy', 'healthy', 'healthy', 'parkinson', 'parkinson',\n",
              "       'parkinson', 'parkinson', 'parkinson', 'parkinson', 'parkinson',\n",
              "       'parkinson', 'parkinson', 'parkinson', 'parkinson', 'parkinson',\n",
              "       'parkinson', 'parkinson', 'parkinson'], dtype='<U9')"
            ]
          },
          "metadata": {},
          "execution_count": 13
        }
      ]
    },
    {
      "cell_type": "markdown",
      "source": [
        "LABEL ENCODING"
      ],
      "metadata": {
        "id": "_PQ_yPCXSSyk"
      }
    },
    {
      "cell_type": "code",
      "source": [
        "le = LabelEncoder()\n",
        "trainY = le.fit_transform(trainY)\n",
        "testY = le.transform(testY)"
      ],
      "metadata": {
        "id": "O2RABHTiSpD_"
      },
      "execution_count": null,
      "outputs": []
    },
    {
      "cell_type": "code",
      "source": [
        "trainY"
      ],
      "metadata": {
        "colab": {
          "base_uri": "https://localhost:8080/"
        },
        "id": "mWVS-xLzSuB0",
        "outputId": "08902eda-8283-4d9d-a61e-9b26000e87c9"
      },
      "execution_count": null,
      "outputs": [
        {
          "output_type": "execute_result",
          "data": {
            "text/plain": [
              "array([0, 0, 0, 0, 0, 0, 0, 0, 0, 0, 0, 0, 0, 0, 0, 0, 0, 0, 0, 0, 0, 0,\n",
              "       0, 0, 0, 0, 0, 0, 0, 0, 0, 0, 0, 0, 0, 0, 1, 1, 1, 1, 1, 1, 1, 1,\n",
              "       1, 1, 1, 1, 1, 1, 1, 1, 1, 1, 1, 1, 1, 1, 1, 1, 1, 1, 1, 1, 1, 1,\n",
              "       1, 1, 1, 1, 1, 1])"
            ]
          },
          "metadata": {},
          "execution_count": 15
        }
      ]
    },
    {
      "cell_type": "code",
      "source": [
        "testY"
      ],
      "metadata": {
        "colab": {
          "base_uri": "https://localhost:8080/"
        },
        "id": "AfJt67mtSuX_",
        "outputId": "e7d0a9d2-4384-4309-bd15-c588ab2d4bd9"
      },
      "execution_count": null,
      "outputs": [
        {
          "output_type": "execute_result",
          "data": {
            "text/plain": [
              "array([0, 0, 0, 0, 0, 0, 0, 0, 0, 0, 0, 0, 0, 0, 0, 1, 1, 1, 1, 1, 1, 1,\n",
              "       1, 1, 1, 1, 1, 1, 1, 1])"
            ]
          },
          "metadata": {},
          "execution_count": 16
        }
      ]
    }
  ]
}